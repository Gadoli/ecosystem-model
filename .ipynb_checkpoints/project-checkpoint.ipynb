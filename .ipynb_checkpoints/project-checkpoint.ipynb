{
 "cells": [
  {
   "cell_type": "code",
   "execution_count": null,
   "metadata": {
    "collapsed": false
   },
   "outputs": [],
   "source": [
    "import sys, os\n",
    "import source.map\n",
    "import source.measurement\n",
    "import source.random_forest\n",
    "import matplotlib.pyplot as plt\n",
    "import pandas as pd\n",
    "import numpy as np"
   ]
  },
  {
   "cell_type": "code",
   "execution_count": null,
   "metadata": {
    "collapsed": false
   },
   "outputs": [],
   "source": [
    "species = [(0.06, 130, 0, {2}, (0, 0, 1, 1), 200, 101, 100, 0.01, 0.15, 0, 0.05, 0.15, 0.05),\n",
    "           (0.14, 130, 1, {0}, (1, 0, 0, 1), 400, 151, 150, 0.01, 0.15, 5, 0, 0, 0),\n",
    "           (0, 10, 2, set(), (0, 0.8, 0.2, 1), 50, 40, 1000, 0.01, 0.15, 0, 0, 0, 0),\n",
    "          ]\n",
    "\n",
    "the_map = source.map.Map([200, 10, 6500], 60, 60, species, decease_spread_range=2)"
   ]
  },
  {
   "cell_type": "markdown",
   "metadata": {},
   "source": [
    "Schéma animé de monde:"
   ]
  },
  {
   "cell_type": "code",
   "execution_count": null,
   "metadata": {
    "collapsed": false
   },
   "outputs": [],
   "source": [
    "the_map.iteration()"
   ]
  },
  {
   "cell_type": "code",
   "execution_count": null,
   "metadata": {
    "collapsed": false
   },
   "outputs": [],
   "source": [
    "%matplotlib notebook\n",
    "\n",
    "import numpy as np\n",
    "import matplotlib.animation as animation\n",
    "\n",
    "plt.close('all')\n",
    "\n",
    "\n",
    "fig = plt.figure(5)\n",
    "ax = plt.axes(xlim=(0, the_map.beings_map.shape[0]), ylim=(0, the_map.beings_map.shape[1]))\n",
    "scat = ax.scatter([], [], s=60)\n",
    "plt.xticks([]), plt.yticks([])\n",
    "\n",
    "\n",
    "def init():\n",
    "    scat.set_offsets([])\n",
    "\n",
    "def update(*args):\n",
    "    positions = []\n",
    "    colors = []\n",
    "    for i in range(len(the_map.beings_list)):\n",
    "        if not the_map.beings_list[i].is_dead:\n",
    "            positions.append(the_map.beings_list[i].get_position())\n",
    "            colors.append(the_map.beings_list[i].color)\n",
    "    scat.set_offsets(positions)\n",
    "    scat.set_color(colors)\n",
    "    scat.set_sizes(5 * np.ones(len(the_map.beings_list)))\n",
    "    the_map.iteration()\n",
    "    return scat,\n",
    "\n",
    "anim = animation.FuncAnimation(fig, update, init_func=init, frames=range(100),\n",
    "                               interval=50)\n",
    "plt.show()"
   ]
  },
  {
   "cell_type": "code",
   "execution_count": null,
   "metadata": {
    "collapsed": false
   },
   "outputs": [],
   "source": [
    "source.measurement.draw_population(the_map,\n",
    "                                   100,\n",
    "                                   60,\n",
    "                                   species_to_draw={0, 1, 2},\n",
    "                                   stop_on_extinction=True)"
   ]
  },
  {
   "cell_type": "code",
   "execution_count": null,
   "metadata": {
    "collapsed": false
   },
   "outputs": [],
   "source": [
    "the_map.stats"
   ]
  },
  {
   "cell_type": "code",
   "execution_count": null,
   "metadata": {
    "collapsed": false
   },
   "outputs": [],
   "source": [
    "test_result = source.measurement.survival_tests(os.path.join(\"data\", \"tests133.csv\"),\n",
    "                                               species,\n",
    "                                               50,\n",
    "                                               max_iterations=6000,\n",
    "                                               test_count=100000,\n",
    "                                               inital_beings_number_bounds=[(50, 400), (2, 10), (1000, 6000)],\n",
    "                                               simulations_per_test=1,\n",
    "                                               change_satiation_threshold=True,\n",
    "                                               change_reproduction_threshold=True,\n",
    "                                               change_reproduction_cooldown=True,\n",
    "                                               change_inital_satiation=True,\n",
    "                                               change_hunt_range=True,\n",
    "                                               stop_hour=9);"
   ]
  },
  {
   "cell_type": "code",
   "execution_count": null,
   "metadata": {
    "collapsed": false
   },
   "outputs": [],
   "source": [
    "data = pd.read_csv(os.path.join(\"data\", \"6k iterations test\", \"concatenated.csv\"))\n",
    "data[data[\"result\"] >= 6000.0]"
   ]
  },
  {
   "cell_type": "code",
   "execution_count": null,
   "metadata": {
    "collapsed": false
   },
   "outputs": [],
   "source": [
    "plt.plot([data[\"result\"].values[data[\"result\"].values <= x].shape[0] for x in range(0, 6001, 1)])\n",
    "plt.show()"
   ]
  },
  {
   "cell_type": "code",
   "execution_count": null,
   "metadata": {
    "collapsed": false
   },
   "outputs": [],
   "source": [
    "def concatenate_tests(dir_path):\n",
    "    files = os.listdir(dir_path)\n",
    "    data_frame = pd.read_csv(os.path.join(dir_path, files[0]))\n",
    "    for file_name in files[1:]:\n",
    "        data_frame = pd.concat((data_frame, pd.read_csv(os.path.join(dir_path, file_name))))\n",
    "    data_frame.to_csv(os.path.join(dir_path, \"concatenated.csv\"))\n",
    "\n",
    "concatenate_tests(os.path.join(\"data\", \"6k iterations test\"))"
   ]
  },
  {
   "cell_type": "code",
   "execution_count": 1,
   "metadata": {
    "collapsed": true
   },
   "outputs": [],
   "source": [
    "import sys, os\n",
    "import source.map\n",
    "import source.measurement\n",
    "import source.random_forest\n",
    "import matplotlib.pyplot as plt\n",
    "import pandas as pd\n",
    "import numpy as np\n",
    "data = pd.read_csv(\"data/6k iterations test/concatenated.csv\")\n",
    "train_data = source.measurement.test_results_to_normalized_labeled_set(data, 1000)"
   ]
  },
  {
   "cell_type": "code",
   "execution_count": 2,
   "metadata": {
    "collapsed": false
   },
   "outputs": [],
   "source": [
    "test_data = source.random_forest.LabeledSet(train_data.x.shape[1])\n",
    "for i in range(1700, train_data.size()):\n",
    "    test_data.add_example(train_data.x[i], train_data.y[i])\n",
    "train_data.x = train_data.x[:1700]\n",
    "train_data.y = train_data.y[:1700]\n",
    "train_data.example_number = 1700"
   ]
  },
  {
   "cell_type": "code",
   "execution_count": 7,
   "metadata": {
    "collapsed": false
   },
   "outputs": [
    {
     "name": "stdout",
     "output_type": "stream",
     "text": [
      "Started iteration 1\n",
      "Basic classifier trained\n",
      "Started iteration 2\n",
      "Basic classifier trained\n",
      "Started iteration 3\n",
      "Basic classifier trained\n",
      "Started iteration 4\n",
      "Basic classifier trained\n",
      "Started iteration 5\n",
      "Basic classifier trained\n",
      "Started iteration 6\n",
      "Basic classifier trained\n",
      "Started iteration 7\n",
      "Basic classifier trained\n",
      "Started iteration 8\n",
      "Basic classifier trained\n",
      "Started iteration 9\n",
      "Basic classifier trained\n",
      "Started iteration 10\n",
      "Basic classifier trained\n",
      "Started iteration 11\n",
      "Basic classifier trained\n",
      "Started iteration 12\n",
      "Basic classifier trained\n",
      "Started iteration 13\n",
      "Basic classifier trained\n",
      "Started iteration 14\n",
      "Basic classifier trained\n",
      "Started iteration 15\n",
      "Basic classifier trained\n",
      "Started iteration 16\n",
      "Basic classifier trained\n",
      "Started iteration 17\n",
      "Basic classifier trained\n",
      "Started iteration 18\n",
      "Basic classifier trained\n",
      "Started iteration 19\n",
      "Basic classifier trained\n",
      "Started iteration 20\n",
      "Basic classifier trained\n",
      "Started iteration 21\n",
      "Basic classifier trained\n",
      "Started iteration 22\n",
      "Basic classifier trained\n",
      "Started iteration 23\n",
      "Basic classifier trained\n",
      "Started iteration 24\n",
      "Basic classifier trained\n",
      "Started iteration 25\n",
      "Basic classifier trained\n",
      "Started iteration 26\n",
      "Basic classifier trained\n",
      "Started iteration 27\n",
      "Basic classifier trained\n",
      "Started iteration 28\n",
      "Basic classifier trained\n",
      "Started iteration 29\n",
      "Basic classifier trained\n",
      "Started iteration 30\n",
      "Basic classifier trained\n",
      "Started iteration 31\n",
      "Basic classifier trained\n",
      "Started iteration 32\n",
      "Basic classifier trained\n",
      "Started iteration 33\n",
      "Basic classifier trained\n",
      "Started iteration 34\n",
      "Basic classifier trained\n",
      "Started iteration 35\n",
      "Basic classifier trained\n",
      "Started iteration 36\n",
      "Basic classifier trained\n",
      "Started iteration 37\n",
      "Basic classifier trained\n",
      "Started iteration 38\n",
      "Basic classifier trained\n",
      "Started iteration 39\n",
      "Basic classifier trained\n",
      "Finished training\n"
     ]
    }
   ],
   "source": [
    "gradient_boost = source.random_forest.GradientBoost(source.random_forest.Perceptron)\n",
    "gradient_boost.train(train_data,\n",
    "                     0.0001,\n",
    "                     0.001,\n",
    "                     0.1,\n",
    "                     {\"learning_rate\": 0.001,\n",
    "                      \"iteration_count\": 25000,\n",
    "                      \"kernel_function\": lambda x: np.hstack((x, 1)),\n",
    "                      \"loss_function_derivative\": source.random_forest.least_squares_derivative}, \n",
    "                      #\"activation_function\": logistic_function},\n",
    "                     (),\n",
    "                     {},\n",
    "                     source.random_forest.least_squares_derivative,  # d(L(ŷ, y)) / d(ŷ)\n",
    "                     40,\n",
    "                     verbose=True)"
   ]
  },
  {
   "cell_type": "code",
   "execution_count": 8,
   "metadata": {
    "collapsed": false
   },
   "outputs": [
    {
     "data": {
      "image/png": "[encoded data removed]",
      "text/plain": [
       "<matplotlib.figure.Figure at 0x7f357d1dd048>"
      ]
     },
     "metadata": {},
     "output_type": "display_data"
    },
    {
     "data": {
      "text/plain": [
       "0.7601453165825549"
      ]
     },
     "execution_count": 8,
     "metadata": {},
     "output_type": "execute_result"
    }
   ],
   "source": [
    "gradient_boost.plot_roc(test_data)"
   ]
  }
 ],
 "metadata": {
  "kernelspec": {
   "display_name": "Python 3",
   "language": "python",
   "name": "python3"
  },
  "language_info": {
   "codemirror_mode": {
    "name": "ipython",
    "version": 3
   },
   "file_extension": ".py",
   "mimetype": "text/x-python",
   "name": "python",
   "nbconvert_exporter": "python",
   "pygments_lexer": "ipython3",
   "version": "3.5.2"
  }
 },
 "nbformat": 4,
 "nbformat_minor": 2
}
